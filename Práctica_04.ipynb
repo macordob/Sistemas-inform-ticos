{
  "nbformat": 4,
  "nbformat_minor": 0,
  "metadata": {
    "colab": {
      "provenance": []
    },
    "kernelspec": {
      "name": "python3",
      "display_name": "Python 3"
    },
    "language_info": {
      "name": "python"
    }
  },
  "cells": [
    {
      "cell_type": "markdown",
      "source": [
        "# Estructura repetitiva en Python\n",
        "\n",
        "Todos realizamos, quizás sin reparar en ello, gran número de actividades repetitivas a lo largo del día. El simple hecho de caminar es una acción repetitiva: encadenamos pasos uno tras otro mientras no hayamos alcanzado nuestro destino; o cuando buscamos un nombre en una lista: pasamos de nombre en nombre mientras no encontremos el que nos interesa o se termine la lista.\n",
        "Una actividad tan común también aparece en la programación. Este es por tanto el objetivo de esta práctica: conocer la estructura repetitiva (también se conoce como esquema iterativo, ciclo, bucle…) en Python.\n",
        "\n",
        "## Estructura repetitiva en Python\n",
        "\n",
        "La estructura repetitiva en Python corresponde al mientras que estudiado en clase de teoría.\n",
        "\n",
        "```\n",
        "mientras que condición hacer\n",
        "  bloque_de_instrucciones\n",
        "fmq\n",
        "```\n",
        "\n",
        "```\n",
        "while condición\n",
        "  bloque de instrucciones\n",
        "```\n",
        "\n",
        "Comentaremos los siguientes puntos sobre la estructura anterior a la que también denominaremos **bucle while** (en programación es común denominar bucle a las estructuras repetitivas).\n",
        "\n",
        "### Funcionamiento\n",
        "\n",
        "Aunque el funcionamiento de este tipo de bucles ya se ha explicado en clase de teoría a través de la estructura mientras que, no está de más recordarlo. Cuando el control del programa llega a la línea while:\n",
        "1. Se comprueba la condición.\n",
        "2. Si la condición es cierta el procesador empieza a ejecutar las instrucciones del bloque_de_instrucciones.\n",
        "3. Al finalizar el bloque_de_instrucciones se vuelve a comprobar la condición de entrada al bucle y si esta sigue siendo cierta se volverán a ejecutar las instrucciones.\n",
        "4. Se procede como en el punto 3 mientras la condición sea cierta. Sin embargo, si la condición resultase falsa, se continuaría con la primera instrucción tras la llave de cierre del bloque while, dando fin a la ejecución del bucle.\n",
        "\n",
        "#### La condición\n",
        "Representa la clave del control del while. La condición se especifica de la misma forma que las que aparecían en las estructuras de la estructura condicional. Por tanto, pueden ser variables lógicas o expresiones lógicas simples o compuestas (ver práctica 3, para más detalles).\n",
        "La primera vez que se verifica la condición, esta juega el papel de condición de entrada en el bucle while. Por tanto, el bucle puede que no llegue a ejecutarse nunca, si, en la comprobación de entrada, la condición ya resultase falsa.\n",
        "Una vez que ya se ha entrado en el bucle, se permanecerá en él mientras la condición sea cierta. Por tanto:\n",
        "\n",
        "La condición del while es una **condición de permanencia en el bucle**.\n",
        "\n",
        "Por tanto, es fundamental que alguna de las instrucciones dentro del bucle modifique la condición volviéndola falsa en algún momento, ya que, de no hacerlo, el bucle se ejecutaría indefinidamente (**bucle infinito**).\n",
        "\n",
        "**Las instrucciones deben modificar la condición del bucle.**\n",
        "\n",
        "#### Parando un bucle infinito\n",
        "\n",
        "Como acabamos de decir, cuando se escriben programas que contienen procesos iterativos, es necesario estar totalmente seguro de que la ejecución de esos bucles termina, es decir, que a lo largo del proceso llega un momento en el que la condición de permanencia en el bucle se hace falsa. A pesar de ello, es posible que se cometan errores en la escritura del programa que lleven a que algún bucle no termine, con lo que el programa se colgará. Para **detener la ejecución de un programa** que ha entrado en un bucle infinito, debe pulsarse  el botón **STOP del margen izquierdo de la celda**.\n",
        "\n",
        "## Otras estructuras repetitivas\n",
        "### La estructura repetir\n",
        "\n",
        "Corresponde al esquema repetir de seudocódigo. La forma de escribir el bucle repetir en Python no existe realmente sino que tendrás que simularlo de la siguiente forma:\n",
        "\n",
        "```\n",
        "while True:\n",
        "    bloque_de_instrucciones\n",
        "    if condición != True:\n",
        "        break\n",
        "```\n",
        "Y su funcionamiento es el siguiente:\n",
        "1. El programa ejecuta las instrucciones especificadas en el bloque_de_instrucciones.\n",
        "2. Al finalizar el bloque_de_instrucciones el programa comprueba la condición de permanencia en el bucle y si esta es cierta se volverán a ejecutar las instrucciones.\n",
        "3. Se procede como en el punto 2 mientras la condición sea cierta. Sin embargo, si en esta comprobación la condición resultase falsa, se daría fin a la ejecución del bucle.\n",
        "\n",
        "Como ves, su comportamiento es prácticamente idéntico al del bucle while, excepto por la pequeña (o gran) diferencia de que en el bucle repetir el bloque_de_instrucciones siempre se ejecuta al menos una vez (recuerda que en el bucle while podría no ejecutarse nunca). Mentalmente, un bucle repetir debe leerse: hacer \\<instrucciones\\> mientras que \\<la condicion sea VERDAD\\>. Aunque hay que tener en cuenta que en este caso es una simulación porque la estructura do...while en el lenguaje Python no existe.\n",
        "\n",
        "\n",
        "**El bloque de instrucciones de un bucle repetir siempre se ejecuta al menos una vez.**\n",
        "\n",
        "### La estructura repetitiva FOR\n",
        "\n",
        "La estructura for (equivalente al para de seudocódigo) es otra estructura repetitiva que existe en Python. Permite de una manera cómoda la realización de un conjunto de instrucciones un número concreto de veces. Su sintaxis es la siguiente:\n",
        "\n",
        "```\n",
        "para varInd = inicio hasta fin hacer\n",
        "  bloque_de_instrucciones\n",
        "fpara\n",
        "```\n",
        "\n",
        "```\n",
        "for (i in range(inicio,fin,incremento)):\n",
        "  bloque_de_instrucciones;\n",
        "\n",
        "```\n",
        "\n",
        "Funciona ejecutando las instrucciones del siguiente nivel de indentación exactamente las veces que van desde inicio hasta fin. Se parte del valor inicial del índice inicio y en cada iteración el bucle incrementa el valor de dicho índice (inicio = inicio + incremento). El bucle termina cuando el índice rebasa el valor fin. Obviamente, para que se ejecute el bucle al menos una vez debe ser inicio\\<fin.\n",
        "\n",
        "Nota: Si el valor inicio es igual a fin no entrará en esa repetición. Debe ser estrictamente menor al valor fin.\n",
        "\n",
        "```\n",
        "for i in range(1,11,1):\n",
        "  print(i)\n",
        "```\n",
        "\n",
        "El índice del bucle debe ser de tipo int (ojo, no valdría float, por ejemplo), y no debe ser modificado en el interior del bucle.\n",
        "\n",
        "También es posible especificar bucles for en los que el índice vaya disminuyendo. Para ello utilizaremos la sintaxis:\n",
        "\n",
        "```\n",
        "for indice in range(inicio,fin,-1):\n",
        "    bloque_instrucciones\n",
        "```\n",
        "\n",
        "con la precisión de que ahora debe ser inicio\\>fin. En general, como habrás adivinado, Python permite cualquier incremento.\n",
        "\n"
      ],
      "metadata": {
        "id": "4h_ph4eRLWi6"
      }
    },
    {
      "cell_type": "markdown",
      "source": [
        "## Sesión de prácticas\n",
        "### Primer ejercicio\n",
        "#### Primer programa\n",
        "\n",
        "Traduce el siguiente seudocódigo a Python. Edita, guarda el cuaderno y ejecuta el programa.\n",
        "\n",
        "```\n",
        "Entradas entero x,y\n",
        "Salida entero potencia\n",
        "Calcula la potencia de base ‘x’ y exponente ‘y’\n",
        "Algoritmo potencia\n",
        "variables\n",
        "  entero x, y, potencia, contador\n",
        "principio\n",
        "  leer(x)\n",
        "  leer(y)\n",
        "  contador = 1\n",
        "  potencia = 1\n",
        "  mientras que contador ≤ y hacer\n",
        "    potencia = potencia * x\n",
        "    contador = contador + 1\n",
        "  fmq\n",
        "  escribir(potencia)\n",
        "fin\n",
        "```\n",
        "Escribe en Python una solución del mismo problema usando la estructura do... while y otra usando el for\n"
      ],
      "metadata": {
        "id": "X0NtPXfTr0cn"
      }
    },
    {
      "cell_type": "markdown",
      "source": [
        "Traducción a Python."
      ],
      "metadata": {
        "id": "pbIXQ1dSTAmB"
      }
    },
    {
      "cell_type": "code",
      "source": [
        "'''\n",
        "FECHA:\n",
        "AUTOR:\n",
        "DESCRIPCIÓN: calcular la potencia de base 'x' y exponente 'y'\n",
        "Entradas: x,y\n",
        "Salida: potencia\n",
        "'''\n",
        "\n",
        "#Solicitar entradas al usuario\n",
        "x = int(input(\"Ingrese la base (x): \"))\n",
        "y = int(input(\"Ingrese el exponente (y): \"))\n",
        "\n",
        "#Inicializar variables\n",
        "contador = 1\n",
        "potencia = 1\n",
        "\n",
        "#Calcular la potencia\n",
        "while contador <= y:\n",
        "    potencia = potencia * x\n",
        "    contador += 1\n",
        "\n",
        "#Mostrar el resultado\n",
        "print(\"La potencia de\", x, \"elevado a\", y, \"es:\", potencia)"
      ],
      "metadata": {
        "id": "0CA9WYnGs1T8",
        "outputId": "07fc883b-d29e-4638-aaeb-37375ed9b517",
        "colab": {
          "base_uri": "https://localhost:8080/"
        }
      },
      "execution_count": 1,
      "outputs": [
        {
          "output_type": "stream",
          "name": "stdout",
          "text": [
            "Ingrese la base (x): 5\n",
            "Ingrese el exponente (y): 2\n",
            "La potencia de 5 elevado a 2 es: 25\n"
          ]
        }
      ]
    },
    {
      "cell_type": "markdown",
      "source": [
        "Estructura do...while"
      ],
      "metadata": {
        "id": "3rNMH3iP3U-M"
      }
    },
    {
      "cell_type": "code",
      "source": [
        "'''\n",
        "FECHA:\n",
        "AUTOR:\n",
        "DESCRIPCIÓN: calcular la potencia de base 'x' y exponente 'y'\n",
        "Entradas: x,y\n",
        "Salida: potencia\n",
        "'''\n",
        "\n",
        "# Solicitar entradas al usuario\n",
        "x = int(input(\"Ingrese la base (x): \"))\n",
        "y = int(input(\"Ingrese el exponente (y): \"))\n",
        "\n",
        "# Inicialización de variables\n",
        "contador = 1\n",
        "potencia = 1\n",
        "\n",
        "# Bucle do...while\n",
        "while True:\n",
        "    potencia *= x  # Multiplicación acumulativa\n",
        "    contador += 1  # Incrementar el contador\n",
        "\n",
        "    # Condición de salida del bucle\n",
        "    if contador > y:\n",
        "        break  # Salir del bucle si se ha alcanzado el exponente\n",
        "\n",
        "# Salida\n",
        "print(\"La potencia de\", x, \"elevado a\", y, \"es:\", potencia)\n"
      ],
      "metadata": {
        "id": "WV71E1bx15Wi",
        "outputId": "85a1ace5-f0db-4219-d9c1-6f8a305a68fe",
        "colab": {
          "base_uri": "https://localhost:8080/"
        }
      },
      "execution_count": 3,
      "outputs": [
        {
          "output_type": "stream",
          "name": "stdout",
          "text": [
            "Ingrese la base (x): 0\n",
            "Ingrese el exponente (y): 5\n",
            "La potencia de 0 elevado a 5 es: 0\n"
          ]
        }
      ]
    },
    {
      "cell_type": "markdown",
      "source": [
        "Usando for."
      ],
      "metadata": {
        "id": "TIppha383nBM"
      }
    },
    {
      "cell_type": "code",
      "source": [
        "'''\n",
        "FECHA:\n",
        "AUTOR:\n",
        "DESCRIPCIÓN: calcular la potencia de base 'x' y exponente 'y'\n",
        "Entradas: x,y\n",
        "Salida: potencia\n",
        "'''\n",
        "#Solicitar entradas al usuario\n",
        "x = int(input(\"Ingrese la base (x): \"))\n",
        "y = int(input(\"Ingrese el exponente (y): \"))\n",
        "\n",
        "#Calcular la potencia\n",
        "potencia = 1\n",
        "for _ in range(y):\n",
        "    potencia *= x\n",
        "\n",
        "#Mostrar el resultado\n",
        "print(\"La potencia de\", x, \"elevado a\", y, \"es:\", potencia)\n"
      ],
      "metadata": {
        "id": "XPeU8m_s3pNk",
        "outputId": "c04fe9cd-fba6-423d-b525-76cbe97b337b",
        "colab": {
          "base_uri": "https://localhost:8080/"
        }
      },
      "execution_count": 4,
      "outputs": [
        {
          "output_type": "stream",
          "name": "stdout",
          "text": [
            "Ingrese la base (x): 5\n",
            "Ingrese el exponente (y): 2\n",
            "La potencia de 5 elevado a 2 es: 25\n"
          ]
        }
      ]
    },
    {
      "cell_type": "markdown",
      "source": [
        "#### Segundo programa\n",
        "Traduce el siguiente seudocódigo a Python.\n",
        "\n",
        "```\n",
        "Entradas entero a,b\n",
        "Salida entero cociente,resto\n",
        "Calcula el cociente y resto de la división de a entre b, sin utilizar las funciones Mod ni Div\n",
        "Algoritmo dividir\n",
        "variables\n",
        "  entero a, b, cociente, resto\n",
        "principio\n",
        "  leer(a, b)\n",
        "  cociente = 0\n",
        "  mientras que a ≥ b hacer\n",
        "    a = a - b\n",
        "    cociente = cociente + 1\n",
        "  fmq\n",
        "  resto = a\n",
        "  escribir(cociente, resto)\n",
        "fin\n",
        "```\n",
        "\n",
        "Escribe en Python una solución del mismo problema usando la estructura do... while. ¿Es posible resolverlo mediante la estructura for?\n"
      ],
      "metadata": {
        "id": "KSgk8DvctFjW"
      }
    },
    {
      "cell_type": "markdown",
      "source": [
        "Traducción a Python."
      ],
      "metadata": {
        "id": "-W7-EDDPUl7E"
      }
    },
    {
      "cell_type": "code",
      "source": [
        "'''\n",
        "FECHA:\n",
        "AUTOR:\n",
        "DESCRIPCIÓN: calcular el cociente y resto de la división de a entre b, sin utilizar las funciones Mod ni Div\n",
        "ENTRADAS: a,b\n",
        "SALIDA: cociente,resto\n",
        "'''\n",
        "\n",
        "#Solicitar entradas al usuario\n",
        "a = int(input(\"Ingrese el dividendo: \"))\n",
        "b = int(input(\"Ingrese el divisor: \"))\n",
        "\n",
        "#Inicializar el cociente\n",
        "cociente = 0\n",
        "\n",
        "#Calcular el cociente y el resto\n",
        "while a >= b:\n",
        "    a -= b\n",
        "    cociente += 1\n",
        "\n",
        "resto = a\n",
        "\n",
        "#Mostrar el resultado\n",
        "print(\"El cociente de la división es: \", cociente)\n",
        "print(\"El resto4 de la división es: \", resto)\n"
      ],
      "metadata": {
        "id": "XVt8GDzVUtFH",
        "outputId": "0d73f266-e8be-4703-abc1-b5e3c5a52374",
        "colab": {
          "base_uri": "https://localhost:8080/"
        }
      },
      "execution_count": 10,
      "outputs": [
        {
          "output_type": "stream",
          "name": "stdout",
          "text": [
            "Ingrese el dividendo: 4\n",
            "Ingrese el divisor: 2\n",
            "El cociente de la división es:  2\n",
            "El resto4 de la división es:  0\n"
          ]
        }
      ]
    },
    {
      "cell_type": "markdown",
      "source": [
        "Código con do...while"
      ],
      "metadata": {
        "id": "Iyv1_foiW-7m"
      }
    },
    {
      "cell_type": "code",
      "source": [
        "'''\n",
        "FECHA:\n",
        "AUTOR:\n",
        "DESCRIPCIÓN: calcular el cociente y resto de la división de a entre b, sin utilizar las funciones Mod ni Div\n",
        "ENTRADAS: a,b\n",
        "SALIDA: cociente,resto\n",
        "'''\n",
        "\n",
        "#Solicitar entradas al usuario\n",
        "a = int(input(\"Ingrese el dividendo: \"))\n",
        "b = int(input(\"Ingrese el divisor: \"))\n",
        "\n",
        "#Inicializar el cociente\n",
        "cociente = 0\n",
        "\n",
        "#Crear bucle\n",
        "while True:\n",
        "    if a < b:\n",
        "        break\n",
        "    a -= b\n",
        "    cociente += 1\n",
        "\n",
        "resto = a\n",
        "\n",
        "#Mostrar el resultado\n",
        "print(\"El cociente de la división es: \", cociente)\n",
        "print(\"El resto de la división es: \", resto)"
      ],
      "metadata": {
        "id": "wR5N8vCKXBdz",
        "outputId": "fb1423ef-5c3c-4afd-a86a-6904d9e1f701",
        "colab": {
          "base_uri": "https://localhost:8080/"
        }
      },
      "execution_count": 11,
      "outputs": [
        {
          "output_type": "stream",
          "name": "stdout",
          "text": [
            "Ingrese el dividendo: 4\n",
            "Ingrese el divisor: 2\n",
            "El cociente de la división es:  2\n",
            "El resto de la división es:  0\n"
          ]
        }
      ]
    },
    {
      "cell_type": "markdown",
      "source": [
        "Estructura *for*\n",
        "\n",
        "No es posible resolverlo mediante un bucle con *for* a través de Python, ya que el número de veces que se necesita restar el divisor b del dividento a no se conoce de antemano y para usar *for*, hay que establecer el número de veces que se ejecutará desde el principio."
      ],
      "metadata": {
        "id": "lWM9ZrmJWBOE"
      }
    },
    {
      "cell_type": "markdown",
      "source": [
        "### Segundo ejercicio\n",
        "El siguiente programa en Python contiene errores tanto de sintaxis como de ejecución, corrígelos.\n",
        "Este programa calcula el valor del número e a partir de su desarrollo en serie:\n",
        "\n",
        "![Captura de pantalla 2024-09-10 133705.png](data:image/png;base64,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)\n",
        "\n",
        "Se sumarán términos de la serie hasta que estos sean más pequeños que un valor introducido por teclado (cota)."
      ],
      "metadata": {
        "id": "nzPgO02EtqkV"
      }
    },
    {
      "cell_type": "code",
      "source": [
        "'''\n",
        "FECHA:\n",
        "AUTOR:\n",
        "DESCRIPCION:\n",
        "Calcula el valor del número e a partir de su desarrollo en serie.\n",
        "ENTRADAS: cota, que indica que se debe parar de sumar la serie cuando\n",
        "el valor del término que se va a sumar sea menor que ella\n",
        "SALIDAS: e, el valor de la suma de la serie\n",
        "ERRORES: si el valor de cota es negativo el programa no termina nunca\n",
        "'''\n",
        "\n",
        "\n",
        "\n",
        "float cota,e,termino\n",
        "termino=1\n",
        "e:=1 # Solución del problema trivial\n",
        "cota=float(input\"Introduce un valor para la cota (positivo y 'pequeño'): \"))\n",
        "i=1;\n",
        "while (termino<cota):\n",
        "  e=e+termino;\n",
        "  i=i+1;\n",
        "  termino=termino/i; # es lo mismo (pero más sencillo) que termino=1/i!\n",
        "\n",
        "print(\"El valor aproximado del número e es: \" + e)\n"
      ],
      "metadata": {
        "id": "3am_PXrPujfn"
      },
      "execution_count": null,
      "outputs": []
    },
    {
      "cell_type": "markdown",
      "source": [
        "Para comprobar el buen funcionamiento del programa, al introducir el valor de cota=0.001 se debe obtener la salida 2.71806."
      ],
      "metadata": {
        "id": "_5mWC88zwR84"
      }
    },
    {
      "cell_type": "markdown",
      "source": [
        "### Tercer ejercicio\n",
        "El propósito del ejercicio es completar el diseño de estructuras **mientras que**. Según se ha descrito en las clases de teoría, para diseñar un bucle **mientras** es necesario establecer cuál es la secuencia de instrucciones que se repiten y en qué orden, cuál es el caso trivial y cuál es la condición de parada (la de continuación será la contraria).\n",
        "Para repasar este proceso se proponen los siguientes dos ejercicios en los que deberás establecer cuál es la condición de continuación, el caso inicial o el orden correcto de las instrucciones para que el programa resulte correcto y general.\n",
        "\n",
        "#### Primer programa\n",
        "\n",
        "Completa la condición de continuación del siguiente programa.\n",
        "\n",
        "Obtener el número de términos de la serie que es necesario tomar para satisfacer la desigualdad:\n",
        "\n",
        "![Captura de pantalla 2024-09-10 135858.png](data:image/png;base64,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)\n",
        "\n",
        "\n",
        "siendo el valor límite introducido por teclado."
      ],
      "metadata": {
        "id": "Qd65x5byui2i"
      }
    },
    {
      "cell_type": "code",
      "source": [
        "'''\n",
        "FECHA:\n",
        "AUTOR:\n",
        "DESCRIPCIÓN:\n",
        "Obtiene el número de términos que hay que sumar para que la serie sobrepase un límite.\n",
        "ENTRADAS: limite = límite que se quiere sobrepasar\n",
        "SALIDAS: El número de términos sumados\n",
        "'''\n",
        "\n",
        "limite=float(input(\"Introduce el límite\"))\n",
        "\n",
        "n = 0 # Caso Inicial\n",
        "suma = 0.0\n",
        "while ..... :# Rellena la condición de continuación\n",
        "  n = n + 1 # Instrucciones que se repiten\n",
        "  suma = suma + 1.0/n\n",
        "\n",
        "print(\"Nº de términos \" + str(n) + \"suma = \" + str(suma))\n"
      ],
      "metadata": {
        "id": "Krp1zOCSzZ8c"
      },
      "execution_count": null,
      "outputs": []
    },
    {
      "cell_type": "markdown",
      "source": [
        "#### Segundo programa\n",
        "Completa la condición de continuación y el caso inicial del siguiente programa\n",
        "\n",
        "Calcular la suma de los n primeros números naturales ( 1 + 2 + ... + N )"
      ],
      "metadata": {
        "id": "CrC5oQoEi81S"
      }
    },
    {
      "cell_type": "code",
      "source": [
        "'''\n",
        "FECHA:\n",
        "AUTOR:\n",
        "DESCRIPCIÓN:\n",
        "Obtiene la suma de los n primeros números naturales\n",
        "ENTRADAS: N = número de números que se quiere sumar\n",
        "SALIDAS: suma = la suma de los números\n",
        "ERRORES: El programa no acaba nunca si se introduce un valor negativo en n\n",
        "'''\n",
        "\n",
        "n=int(input(\"¿n?\")) #ENTRADA\n",
        "\n",
        "......\n",
        "......\n",
        "while .....\n",
        "\n",
        "  sumando = sumando + 1;\n",
        "  suma = suma + sumando;\n",
        "\n",
        "print(suma) #SALIDA\n"
      ],
      "metadata": {
        "id": "OL7Mr1nvkP-d"
      },
      "execution_count": null,
      "outputs": []
    },
    {
      "cell_type": "markdown",
      "source": [
        "## Cuarto ejercicio\n",
        "Corrige los errores que tiene el siguiente programa.\n",
        "\n",
        "En este programa se muestra la principal utilidad del esquema de repetición condicionada, que es la de validar las entradas. Casi todos los programas necesitan datos de entrada (leídos habitualmente por teclado). En la mayoría de los casos, dichos datos necesitan estar dentro de un rango preestablecido para que el programa funcione correctamente (por ejemplo, ser positivos, ser letras mayúsculas, etc). Una forma de solucionar esto es impedir que el programa avance más allá de la(s) instrucción(es) de lectura si los valores introducidos no son correctos."
      ],
      "metadata": {
        "id": "fngLOFXsoBz7"
      }
    },
    {
      "cell_type": "code",
      "source": [
        "'''\n",
        "AUTOR:\n",
        "DESCRIPCION:\n",
        "Muestra un mensaje cuando se introduce un número en el rango [1,10]\n",
        "ENTRADAS: un número entero (n)\n",
        "SALIDAS:\n",
        "ERRORES:\n",
        "'''\n",
        "\n",
        "while true:\n",
        "  n = input(\"Introduce un número entre 1 y 10: \")\n",
        "  if((n>=1) and (n<=10)):\n",
        "    continue\n",
        "print(\"Por fin has introducido un dato correcto!\")\n"
      ],
      "metadata": {
        "id": "Q56WolKEpKgF"
      },
      "execution_count": null,
      "outputs": []
    },
    {
      "cell_type": "markdown",
      "source": [
        "### Quinto ejercicio\n",
        "Dado el número ordinal de un mes y un año, calcular el número de días que tiene, teniendo en cuenta que el año puede ser bisiesto (recuerda que los años bisiestos son los que son divisibles por 4 pero no por 100, y los que siendo divisibles por 100, son divisibles por 400).\n",
        "\n",
        "El objetivo del ejercicio es que realices una validación de las entradas, es decir, que al leer los ordinales de mes y de año debes verificar que son valores válidos para esos dos conceptos."
      ],
      "metadata": {
        "id": "vcxfA3W6skyR"
      }
    },
    {
      "cell_type": "code",
      "source": [],
      "metadata": {
        "id": "BX-L5xUps4Ss"
      },
      "execution_count": null,
      "outputs": []
    },
    {
      "cell_type": "markdown",
      "source": [
        "### Sexto ejercicio\n",
        "Recupera el programa en el que hemos realizado la suma de los n primeros números naturales.\n",
        "En primer lugar, realiza una validación de la entrada: n debe ser una cantidad estrictamente mayor que uno. Una vez funcione esto, transforma el esquema mientras que del programa a un esquema repetir que realice el mismo cálculo. ¿Es posible utilizar la estructura for en este programa? En caso afirmativo, hazlo."
      ],
      "metadata": {
        "id": "12EVsy8ss42k"
      }
    },
    {
      "cell_type": "code",
      "source": [],
      "metadata": {
        "id": "QbefmczYuWj8"
      },
      "execution_count": null,
      "outputs": []
    },
    {
      "cell_type": "markdown",
      "source": [
        "### Realización de programas\n",
        "1. Diseña un programa para determinar si un número entero n (leído desde el teclado) es primo.\n",
        "2. Dado un número entero n, calcula la suma de la siguiente serie:\n",
        "\n",
        " ![Captura de pantalla 2024-09-10 181803.png](data:image/png;base64,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)\n",
        "\n",
        "3. Calcula todos los números de tres cifras con las tres cifras impares.\n",
        "4. Dado un número entero, determina el número de dígitos que tiene."
      ],
      "metadata": {
        "id": "G2z1p_4XuW2i"
      }
    },
    {
      "cell_type": "code",
      "source": [],
      "metadata": {
        "id": "UMqahuO0uqmy"
      },
      "execution_count": null,
      "outputs": []
    }
  ]
}