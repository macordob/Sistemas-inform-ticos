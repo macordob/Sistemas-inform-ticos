{
  "nbformat": 4,
  "nbformat_minor": 0,
  "metadata": {
    "colab": {
      "provenance": [],
      "include_colab_link": true
    },
    "kernelspec": {
      "name": "python3",
      "display_name": "Python 3"
    }
  },
  "cells": [
    {
      "cell_type": "markdown",
      "metadata": {
        "id": "view-in-github",
        "colab_type": "text"
      },
      "source": [
        "<a href=\"https://colab.research.google.com/github/macordob/unicode-y-utf_8/blob/main/Unicode_y_UTF_8.ipynb\" target=\"_parent\"><img src=\"https://colab.research.google.com/assets/colab-badge.svg\" alt=\"Open In Colab\"/></a>"
      ]
    },
    {
      "cell_type": "markdown",
      "metadata": {
        "id": "h0GHv09_6p9G"
      },
      "source": [
        "# **Unicode y UTF-8 en Python**\n",
        "Por defecto la codificación de texto en Python es UTF-8, de modo que podemos incluir cualquier caracter en nuestras expresiones literales."
      ]
    },
    {
      "cell_type": "code",
      "metadata": {
        "id": "LoEDTyAc6g7I",
        "colab": {
          "base_uri": "https://localhost:8080/"
        },
        "outputId": "a3c2d20a-5a8f-477e-9e8f-142f0bc7b378"
      },
      "source": [
        "print('Python habla español.')"
      ],
      "execution_count": null,
      "outputs": [
        {
          "output_type": "stream",
          "name": "stdout",
          "text": [
            "Python habla español.\n"
          ]
        }
      ]
    },
    {
      "cell_type": "markdown",
      "metadata": {
        "id": "uVR0tGB07Oyc"
      },
      "source": [
        "Python 3 también permite cualquier caracter Unicode en los identificadores."
      ]
    },
    {
      "cell_type": "code",
      "metadata": {
        "id": "_6F9Zb3K-LQd",
        "colab": {
          "base_uri": "https://localhost:8080/"
        },
        "outputId": "cba8244d-227f-493c-daa5-90c218ef89e5"
      },
      "source": [
        "año=2020\n",
        "print(año)"
      ],
      "execution_count": null,
      "outputs": [
        {
          "output_type": "stream",
          "name": "stdout",
          "text": [
            "2020\n"
          ]
        }
      ]
    },
    {
      "cell_type": "markdown",
      "metadata": {
        "id": "Abwem4rABzq6"
      },
      "source": [
        "Podemos codificar y decodificar texto en python usando los métodos encode y decode:\n",
        "\n",
        "\n",
        "*   El primer argumento indica el método de codificación, Python incorpora más de cien codificaciones diferentes. En el código Python la codificación por defecto es utf-8 pero se puede cambiar con el modificador *coding: latin-1* por ejemplo. La lista de todas las codificaciones disponibles puede consultarse aquí: https://docs.python.org/3/library/codecs.html#standard-encodings\n",
        "\n",
        "*   El segundo elemento indica qué hacer si encuentra un carácter que dicho método no puede codificar: \"strict\" lanza un mensaje de error, \"replace\" lo sustituye con el carácter de reemplazo del sistema de codificación (en Unicode es el U+FFFD), \"blackslashreplace\" lo sustituye por una contrabarra e \"ignore\" simplemente deja el carácter fuera del resultado.\n",
        "\n",
        "* En los siguientes ejemplos usaremos las codificaciones UTF-8, UTF-16BE, y UTF-16LE. Las cadenas codificadas tienen typo \"byte\", por eso se les añade un prefijo \"b\".\n",
        "\n"
      ]
    },
    {
      "cell_type": "code",
      "source": [
        "#Utilizaremos la cadena \"Hola, pequeño.\" en nuestros ejemplos.\n",
        "str=\"Hola, pequeño.\""
      ],
      "metadata": {
        "id": "JFcGZG03JC50"
      },
      "execution_count": null,
      "outputs": []
    },
    {
      "cell_type": "markdown",
      "source": [
        "El siguiente código codifica la cadena en UTF-8 y luego la decodifica. Sabiendo que \\x significa Hexadecimal. ¿Cómo interpretas el output de la cadena codificada? ¿Qué diferencia hay entre los caracteres ASCII y los no-ASCII?\n"
      ],
      "metadata": {
        "id": "rp1Danw4R3R8"
      }
    },
    {
      "cell_type": "markdown",
      "source": [],
      "metadata": {
        "id": "VJzKrjo1ldE6"
      }
    },
    {
      "cell_type": "code",
      "source": [
        "str_encoded= str.encode('utf_8')\n",
        "print(\"La cadena codificada en UTF-8 es: \", str_encoded)\n",
        "str_decoded=str_encoded.decode('utf_8', 'strict')\n",
        "print(\"La cadena decodificada es: \", str_decoded)"
      ],
      "metadata": {
        "colab": {
          "base_uri": "https://localhost:8080/"
        },
        "id": "Yr-EUEv_MVga",
        "outputId": "c683953a-c301-44a8-cfe6-f852a5a295df"
      },
      "execution_count": null,
      "outputs": [
        {
          "output_type": "stream",
          "name": "stdout",
          "text": [
            "La cadena codificada en UTF-8 es:  b'Hola, peque\\xc3\\xb1o.'\n",
            "La cadena decodificada es:  Hola, pequeño.\n"
          ]
        }
      ]
    },
    {
      "cell_type": "markdown",
      "source": [
        "La secuencia \"\\xc3\\xb1\" es la representación en hexadecimal de \"ñ\" en el sistema de codificación UTF-8."
      ],
      "metadata": {
        "id": "rBrPpbmxDuUd"
      }
    },
    {
      "cell_type": "markdown",
      "source": [
        "\"ñ\" no está en el repertorio ASCII, de ahí que haya que escribir la secuencia \"\\xc3\\xb1\", pues es la codifiación hexadecimal."
      ],
      "metadata": {
        "id": "N0StPrZ4fNJa"
      }
    },
    {
      "cell_type": "markdown",
      "source": [
        "La diferencia entre los caracteres ASCII y los no-ASCII es que los ASCII se representan con un solo byte en UTF-8, mientras que para los no-ASCII se necesita más de uno.\n",
        "En los caracteres no-ASCII podemos encontrar caracteres especiales, como acentos, letras de otros alfabetos e incluso emojis, es por eso, que la \"ñ\" necesite más de un byte para poder representarse: \"\\xc3\\xb1\"."
      ],
      "metadata": {
        "id": "sZSSbVhRZRG2"
      }
    },
    {
      "cell_type": "markdown",
      "source": [
        "Podemos usar esto para saber si al indicar la codificación UTF-16 python usa por defecto Little Endian o Big Endian. Explica cómo lo hacemos y cuál es la endianness por defecto."
      ],
      "metadata": {
        "id": "fbv2iDo8RnJ6"
      }
    },
    {
      "cell_type": "code",
      "source": [
        "str_encoded= str.encode('utf_16be')\n",
        "print(\"The encoded string is: \", str_encoded)\n",
        "str_decoded=str_encoded.decode('utf_16', 'strict')\n",
        "print(\"The decoded string is: \", str_decoded)"
      ],
      "metadata": {
        "colab": {
          "base_uri": "https://localhost:8080/"
        },
        "id": "QTXf0uGRMnKV",
        "outputId": "d003822b-40e7-4496-ed86-4ca0ff7ad5ff"
      },
      "execution_count": null,
      "outputs": [
        {
          "output_type": "stream",
          "name": "stdout",
          "text": [
            "The encoded string is:  b'\\x00H\\x00o\\x00l\\x00a\\x00,\\x00 \\x00p\\x00e\\x00q\\x00u\\x00e\\x00\\xf1\\x00o\\x00.'\n",
            "The decoded string is:  䠀漀氀愀Ⰰ 瀀攀焀甀攀漀⸀\n"
          ]
        }
      ]
    },
    {
      "cell_type": "code",
      "source": [
        "str_encoded= str.encode('utf_16le')\n",
        "print(\"The encoded string is: \", str_encoded)\n",
        "str_decoded=str_encoded.decode('utf_16', 'strict')\n",
        "print(\"The decoded string is: \", str_decoded)"
      ],
      "metadata": {
        "colab": {
          "base_uri": "https://localhost:8080/"
        },
        "id": "gVbvhdXDMsh0",
        "outputId": "76624b3f-d877-4b7f-9492-e64b0fc325da"
      },
      "execution_count": null,
      "outputs": [
        {
          "output_type": "stream",
          "name": "stdout",
          "text": [
            "The encoded string is:  b'H\\x00o\\x00l\\x00a\\x00,\\x00 \\x00p\\x00e\\x00q\\x00u\\x00e\\x00\\xf1\\x00o\\x00.\\x00'\n",
            "The decoded string is:  Hola, pequeño.\n"
          ]
        }
      ]
    },
    {
      "cell_type": "markdown",
      "source": [
        "Si no hay BOM, se utiliza por defecto Little Endian. Esto quiere decir que al descodificar la cadena codificada en UTF_16LE, no habrá ningún problema, como ocurre en el segundo ejemplo. Sin embargo, si la cadena está codificada en UTF_16BE, no se imprimen bien los caracteres, como vemos en el primer caso."
      ],
      "metadata": {
        "id": "9EhlJr0ggQGv"
      }
    },
    {
      "cell_type": "markdown",
      "source": [
        "A la vista de lo anterior ¿Cómo interpretas las diferencias en la codificación siguiente con respecto a las anteriores que usaban utf_16be y utf_16le?"
      ],
      "metadata": {
        "id": "Y6CJTLGPSXDR"
      }
    },
    {
      "cell_type": "markdown",
      "source": [
        "Esta cadena está codificada con UTF_16, lo cual podemos deducir gracias a: str.encode('utf_16'). Esto significa que incluye BOM por defecto. La decodificación es más flexible ya que el orden de los bytes se detectan de manera automática. Por otro lado, los anteriores utilizaban UTF_16BE y UTF_16LE, es decir, no tienen BOM y por lo tanto, es necesario que el decodificador conozca de antemano si la cadena está en Big Endian o Little Endian para así interpretarla correctamente."
      ],
      "metadata": {
        "id": "meb4p_X-gWQj"
      }
    },
    {
      "cell_type": "code",
      "source": [
        "str_encoded= str.encode('utf_16')\n",
        "print(\"The encoded string is: \", str_encoded)\n",
        "str_decoded=str_encoded.decode('utf_16', 'strict')\n",
        "print(\"The decoded string is: \", str_decoded)"
      ],
      "metadata": {
        "colab": {
          "base_uri": "https://localhost:8080/"
        },
        "id": "5sCP2YENMUL_",
        "outputId": "38b76902-a555-48b2-b8a6-135af86bf568"
      },
      "execution_count": null,
      "outputs": [
        {
          "output_type": "stream",
          "name": "stdout",
          "text": [
            "The encoded string is:  b'\\xff\\xfeH\\x00o\\x00l\\x00a\\x00,\\x00 \\x00p\\x00e\\x00q\\x00u\\x00e\\x00\\xf1\\x00o\\x00.\\x00'\n",
            "The decoded string is:  Hola, pequeño.\n"
          ]
        }
      ]
    },
    {
      "cell_type": "markdown",
      "source": [
        "Por defecto descodifica en little endian, aún sin decirle nada. Para avisarnos de que ha usado Little Endian usa la BOM."
      ],
      "metadata": {
        "id": "e4jcJfMei4hJ"
      }
    },
    {
      "cell_type": "markdown",
      "source": [
        "En el siguiente ejemplo vemos el comportamiento de la opción replace. ¿Por qué no ha entendido el carcácter \\x80? ¿Qué explicación puedes dar?\n",
        "\n",
        "\n"
      ],
      "metadata": {
        "id": "OIbqTRTzLCuN"
      }
    },
    {
      "cell_type": "code",
      "metadata": {
        "id": "OZ57bNMKJbe8",
        "colab": {
          "base_uri": "https://localhost:8080/",
          "height": 36
        },
        "outputId": "e7fc6d61-f718-4c5f-9f45-61ac5c70606c"
      },
      "source": [
        "b'hola'.decode(\"utf-8\",\"strict\")"
      ],
      "execution_count": null,
      "outputs": [
        {
          "output_type": "execute_result",
          "data": {
            "text/plain": [
              "'hola'"
            ],
            "application/vnd.google.colaboratory.intrinsic+json": {
              "type": "string"
            }
          },
          "metadata": {},
          "execution_count": 8
        }
      ]
    },
    {
      "cell_type": "code",
      "metadata": {
        "id": "w1pGJXahLK-w",
        "colab": {
          "base_uri": "https://localhost:8080/",
          "height": 36
        },
        "outputId": "895fe8d8-39d0-409d-c7d6-349d811cc082"
      },
      "source": [
        "b'\\x80ola'.decode(\"utf-8\",\"replace\")"
      ],
      "execution_count": null,
      "outputs": [
        {
          "output_type": "execute_result",
          "data": {
            "text/plain": [
              "'�ola'"
            ],
            "application/vnd.google.colaboratory.intrinsic+json": {
              "type": "string"
            }
          },
          "metadata": {},
          "execution_count": 22
        }
      ]
    },
    {
      "cell_type": "markdown",
      "source": [
        "El caracter x80 no lo reconoce y no lo puede descodificar porque no es válido en UTF-8."
      ],
      "metadata": {
        "id": "skJFFdBNjOEC"
      }
    },
    {
      "cell_type": "markdown",
      "source": [],
      "metadata": {
        "id": "JxzTxMFLjC2Z"
      }
    },
    {
      "cell_type": "markdown",
      "metadata": {
        "id": "_NyvIxN7LXMN"
      },
      "source": [
        "Como hemos visto, podemos usar el valor hexadecimal de un carácter, que será convertido a bytes antes de codificar.\n",
        "\n",
        "> Añadir blockquote\n",
        "\n"
      ]
    },
    {
      "cell_type": "code",
      "metadata": {
        "id": "sn5_hewtLCGA",
        "colab": {
          "base_uri": "https://localhost:8080/"
        },
        "outputId": "7c2bed2c-5ff2-4ae8-d82e-258deb22c2d7"
      },
      "source": [
        "b'\\x68ola'"
      ],
      "execution_count": null,
      "outputs": [
        {
          "output_type": "execute_result",
          "data": {
            "text/plain": [
              "b'hola'"
            ]
          },
          "metadata": {},
          "execution_count": 6
        }
      ]
    },
    {
      "cell_type": "markdown",
      "metadata": {
        "id": "i0gKefnBLinB"
      },
      "source": [
        "Pero no podemos usar caracteres no ASCII dentro del tipo bytes, esto puede suponer un problema que habrá que solucionar con el correspondiente valor hexadecimal."
      ]
    },
    {
      "cell_type": "code",
      "metadata": {
        "id": "Yi4-aV19-Olb",
        "colab": {
          "base_uri": "https://localhost:8080/",
          "height": 106
        },
        "outputId": "c76da2a5-50b9-4c85-a14a-1240213d51ed"
      },
      "source": [
        "b'feliz año nuevo'.decode(\"utf-8\",\"strict\")"
      ],
      "execution_count": null,
      "outputs": [
        {
          "output_type": "error",
          "ename": "SyntaxError",
          "evalue": "bytes can only contain ASCII literal characters (<ipython-input-10-0c9498ac9dfb>, line 1)",
          "traceback": [
            "\u001b[0;36m  File \u001b[0;32m\"<ipython-input-10-0c9498ac9dfb>\"\u001b[0;36m, line \u001b[0;32m1\u001b[0m\n\u001b[0;31m    b'feliz año nuevo'.decode(\"utf-8\",\"strict\")\u001b[0m\n\u001b[0m                      ^\u001b[0m\n\u001b[0;31mSyntaxError\u001b[0m\u001b[0;31m:\u001b[0m bytes can only contain ASCII literal characters\n"
          ]
        }
      ]
    },
    {
      "cell_type": "markdown",
      "source": [
        "Los caracteres no ASCII no pueden decodificarse (\"ñ\")."
      ],
      "metadata": {
        "id": "Y3PkjYbrkuPP"
      }
    },
    {
      "cell_type": "code",
      "metadata": {
        "id": "AUt2NBGeAmVs",
        "colab": {
          "base_uri": "https://localhost:8080/",
          "height": 36
        },
        "outputId": "7eff9f42-990c-43a7-c41f-5751a9965ef6"
      },
      "source": [
        "b'feliz a\\xC3\\xB1o nuevo'.decode(\"utf-8\",\"strict\")"
      ],
      "execution_count": null,
      "outputs": [
        {
          "output_type": "execute_result",
          "data": {
            "text/plain": [
              "'feliz año nuevo'"
            ],
            "application/vnd.google.colaboratory.intrinsic+json": {
              "type": "string"
            }
          },
          "metadata": {},
          "execution_count": 11
        }
      ]
    },
    {
      "cell_type": "markdown",
      "metadata": {
        "id": "71AtCKr17Din"
      },
      "source": [
        "Si no sabemos de memoria cuál es el código UTF-8 correspondiente a un carácter, podemos usar la función inversa a bytes.decode(), str.encode(), que devuelve la representacióón como bytes de una cadena Unicode, usando la codificación indicada.\n",
        "\n",
        "**Ejercicio:** Usar la función decode para encontrar el código correspondiente a la letra 'ñ'."
      ]
    },
    {
      "cell_type": "code",
      "source": [
        "'ñ'.encode()"
      ],
      "metadata": {
        "colab": {
          "base_uri": "https://localhost:8080/"
        },
        "id": "uuETZJ4vIaWk",
        "outputId": "9d382850-c9ba-4afd-dfc3-eadc666d98ce"
      },
      "execution_count": null,
      "outputs": [
        {
          "output_type": "execute_result",
          "data": {
            "text/plain": [
              "b'\\xc3\\xb1'"
            ]
          },
          "metadata": {},
          "execution_count": 25
        }
      ]
    },
    {
      "cell_type": "code",
      "source": [
        "b'\\xc3\\xb1'.decode()"
      ],
      "metadata": {
        "colab": {
          "base_uri": "https://localhost:8080/",
          "height": 36
        },
        "id": "5AU4wLrl-pMo",
        "outputId": "0c2a9d13-0e53-40a4-f141-84804dc16117"
      },
      "execution_count": null,
      "outputs": [
        {
          "output_type": "execute_result",
          "data": {
            "text/plain": [
              "'ñ'"
            ],
            "application/vnd.google.colaboratory.intrinsic+json": {
              "type": "string"
            }
          },
          "metadata": {},
          "execution_count": 13
        }
      ]
    },
    {
      "cell_type": "markdown",
      "metadata": {
        "id": "_0Go3EcQ-hh9"
      },
      "source": [
        "Podemos importar la base de datos de información que el estándar Unicode almacena sobre cada codepoint: La información almacenada incluye el nombre del carácter, su categoría, etc..\n",
        "\n",
        "Ver https://en.wikipedia.org/wiki/Unicode_character_property"
      ]
    },
    {
      "cell_type": "code",
      "metadata": {
        "id": "EDK9NH5B6XUs",
        "colab": {
          "base_uri": "https://localhost:8080/"
        },
        "outputId": "fb322cb1-a3c6-4495-ed00-afb0506cf935"
      },
      "source": [
        "import unicodedata\n",
        "print(unicodedata.name('ñ'))"
      ],
      "execution_count": null,
      "outputs": [
        {
          "output_type": "stream",
          "name": "stdout",
          "text": [
            "LATIN SMALL LETTER N WITH TILDE\n"
          ]
        }
      ]
    },
    {
      "cell_type": "code",
      "metadata": {
        "id": "QFJwK5dT6df_",
        "colab": {
          "base_uri": "https://localhost:8080/"
        },
        "outputId": "80dfcb37-7e9b-4926-d911-7aa84e1f5152"
      },
      "source": [
        "print(unicodedata.category('ñ'))"
      ],
      "execution_count": null,
      "outputs": [
        {
          "output_type": "stream",
          "name": "stdout",
          "text": [
            "Ll\n"
          ]
        }
      ]
    },
    {
      "cell_type": "markdown",
      "metadata": {
        "id": "cm_j2hI0AJxE"
      },
      "source": [
        "Como vimos en la teoría, una de las características de Unicode es que existen algunos caracteres que pueden combiarse para formar otros, como por ejemplo el acento circunflejo U+0302.\n",
        "\n",
        "Esto provoca la ambigüedad de que podemos codificar el mismo carácter de dos formas diferentes. Por ejemplo el carácter ê se puede codificar como un único codepoint: U+00EA o como la combinacióón del caracter e U+0065 y el acento circunflejo U+0302"
      ]
    },
    {
      "cell_type": "code",
      "metadata": {
        "id": "TRSUNBp3-O8X",
        "colab": {
          "base_uri": "https://localhost:8080/",
          "height": 36
        },
        "outputId": "3b24c7b0-b2e8-4826-8660-ef6d27eb3f63"
      },
      "source": [
        "A1=b'\\x65\\xCC\\x82'.decode(\"utf-8\")\n",
        "A1"
      ],
      "execution_count": null,
      "outputs": [
        {
          "output_type": "execute_result",
          "data": {
            "text/plain": [
              "'ê'"
            ],
            "application/vnd.google.colaboratory.intrinsic+json": {
              "type": "string"
            }
          },
          "metadata": {},
          "execution_count": 16
        }
      ]
    },
    {
      "cell_type": "code",
      "metadata": {
        "id": "x2r6CoKzBItp",
        "colab": {
          "base_uri": "https://localhost:8080/",
          "height": 36
        },
        "outputId": "06d3c141-5c5c-4399-97d6-4fbd2c54c0a4"
      },
      "source": [
        "A2=b'\\xC3\\xAA'.decode(\"utf-8\")\n",
        "A2"
      ],
      "execution_count": null,
      "outputs": [
        {
          "output_type": "execute_result",
          "data": {
            "text/plain": [
              "'ê'"
            ],
            "application/vnd.google.colaboratory.intrinsic+json": {
              "type": "string"
            }
          },
          "metadata": {},
          "execution_count": 17
        }
      ]
    },
    {
      "cell_type": "markdown",
      "metadata": {
        "id": "aMEh0zNSEGav"
      },
      "source": [
        "Esta ambigüedad puede provocar problemas al comparar cadenas en que un mismo carácter haya sido codificado de dos formas diferentes"
      ]
    },
    {
      "cell_type": "code",
      "metadata": {
        "id": "M6OjwaToDLuO",
        "colab": {
          "base_uri": "https://localhost:8080/"
        },
        "outputId": "bd935d43-a816-4f20-9fde-c3ea62aed9cb"
      },
      "source": [
        "A1==A2"
      ],
      "execution_count": null,
      "outputs": [
        {
          "output_type": "execute_result",
          "data": {
            "text/plain": [
              "False"
            ]
          },
          "metadata": {},
          "execution_count": 15
        }
      ]
    },
    {
      "cell_type": "markdown",
      "metadata": {
        "id": "lblkubdaFA0I"
      },
      "source": [
        "Para solucionar esto, **unicodedata** dispone del método **normalize()** que convierte una cadena a una forma normal (existen varias: NFC, NFKC, NFD y NFKD, ver https://unicode.org/reports/tr15/). Esto puede ser de ayuda al tratar datos que contienen texto codificado en UTF-8 de procedencias diversas."
      ]
    },
    {
      "cell_type": "code",
      "source": [
        "A1=unicodedata.normalize('NFD',A1)\n",
        "A2=unicodedata.normalize('NFD',A2)\n",
        "A1==A2"
      ],
      "metadata": {
        "colab": {
          "base_uri": "https://localhost:8080/"
        },
        "id": "QAf-s7BQXsuf",
        "outputId": "d426d3e4-8062-4c34-e2b3-130ed66a579a"
      },
      "execution_count": null,
      "outputs": [
        {
          "output_type": "execute_result",
          "data": {
            "text/plain": [
              "True"
            ]
          },
          "metadata": {},
          "execution_count": 18
        }
      ]
    },
    {
      "cell_type": "code",
      "metadata": {
        "id": "d99pK1pdEmhY",
        "colab": {
          "base_uri": "https://localhost:8080/"
        },
        "outputId": "a985d967-8bf9-432d-83af-6ceb239c916b"
      },
      "source": [
        "unicodedata.normalize('NFD',b'\\x65\\xCC\\x82'.decode(\"utf-8\"))==unicodedata.normalize('NFD',b'\\xC3\\xAA'.decode(\"utf-8\"))"
      ],
      "execution_count": null,
      "outputs": [
        {
          "output_type": "execute_result",
          "data": {
            "text/plain": [
              "True"
            ]
          },
          "metadata": {},
          "execution_count": 17
        }
      ]
    },
    {
      "cell_type": "markdown",
      "metadata": {
        "id": "6Az_ejuJG5hQ"
      },
      "source": [
        "A la hora de escribir y leer desde Python cadenas Unicode en nuestros datos tenemos que tener en cuenta si las aplicaciones o librerías externas de donde recuperamos los datos o donde queremos escribir tienen soporte para Unicode. Por ejemplo los parsers de XML usualmente devuelven datos en Unicode, muchas bases de datos relacionales dan soporte para columnas con valores Unicode y pueden devolver datos en Unicode de una consulta SQL.\n",
        "\n",
        "Usualmente los datos Unicode se codifican siguiendo una codificación particular antes de escribirlos en disco o transmitirlos. A la hora de leerlos nos econtramos con dos características contradictorias:\n",
        "\n",
        "\n",
        "* Por un lado al poder codificar ciertos caracteres con distinto número de bytes podemos tener problemas si leemos los bytes en bloques de por ejemplo 512 ó 1024 bytes ya que podríamos cortar la lectura de un carácter.\n",
        "* Una solución es cargar el fichero entero en RAM y proceder a decodificar, pero esto nos impediría trabajar con ficheros grandes.\n",
        "\n",
        "La solución es capturar los casos de caracteres codificados con varios bytes entrando a bajo nivel en la codificación. Esta solución está implementada en Python en el método open() que devuleve un objeto similar a un fichero, que asume una codificación y que acepta parámetros para datos Unicode en métodos como read() y write().\n",
        "\n"
      ]
    },
    {
      "cell_type": "code",
      "metadata": {
        "id": "DFUEvIpuE0LA",
        "colab": {
          "base_uri": "https://localhost:8080/"
        },
        "outputId": "0b36a4cc-4dcd-4503-d43a-cacddda478ae"
      },
      "source": [
        "with open('mitexto.txt', encoding='utf-8', mode='w') as f:\n",
        "  f.write('\\u4500 y más cosas')\n",
        "\n",
        "with open('mitexto.txt', encoding='utf-8') as f:\n",
        "  print(repr(f.readline()))"
      ],
      "execution_count": null,
      "outputs": [
        {
          "output_type": "stream",
          "name": "stdout",
          "text": [
            "'䔀 y más cosas'\n"
          ]
        }
      ]
    },
    {
      "cell_type": "markdown",
      "metadata": {
        "id": "grewK0lvM-eM"
      },
      "source": [
        "Finalmente, para los nombres de ficheros, la mayoría de sistemas pueden usar cualquier caracter Unicode. Lo que se hace es convertir la cadena del nombre el fichero a una codificación que depende del sistema. Python usa UTF-8 en MacOs y en Windows (desde la versión 3.6). En Linux y sistemas Unix la codificación por defecto es UTF-8 aunque puede establecerse con las variables LANG o LC_CTYPE.\n",
        "\n",
        "Podemos saber la codificación usada en nuestro sistema usando la función sys.getfilesystemencoding().\n",
        "\n",
        "En todo caso, siempre podemos usar caracteres Unicode en los nombres de ficheros y el sistema manejará la codificación. Sigue siendo recomendable en la medida de lo posible que el primer carácter del nombre del fichero sea un carácter ASCII."
      ]
    },
    {
      "cell_type": "code",
      "metadata": {
        "id": "qZ37Jc2SNyQx",
        "colab": {
          "base_uri": "https://localhost:8080/",
          "height": 36
        },
        "outputId": "d1c1d467-0a2d-4f14-eba8-8f45cb2aea33"
      },
      "source": [
        "import sys\n",
        "sys.getfilesystemencoding()"
      ],
      "execution_count": null,
      "outputs": [
        {
          "output_type": "execute_result",
          "data": {
            "text/plain": [
              "'utf-8'"
            ],
            "application/vnd.google.colaboratory.intrinsic+json": {
              "type": "string"
            }
          },
          "metadata": {},
          "execution_count": 20
        }
      ]
    },
    {
      "cell_type": "code",
      "metadata": {
        "id": "IUFie9BVN093",
        "colab": {
          "base_uri": "https://localhost:8080/"
        },
        "outputId": "43fedbfc-1762-46e6-c975-d6fbdc2b5f1e"
      },
      "source": [
        "nombre=\"\\u4500fichero.txt\"\n",
        "with open(nombre,'w') as f:\n",
        "  f.write('¿Puedo escribir cualquier carácter en el fichero '+nombre+'?')\n",
        "\n",
        "with open(nombre) as f:\n",
        "  print(repr(f.readline()))\n"
      ],
      "execution_count": null,
      "outputs": [
        {
          "output_type": "stream",
          "name": "stdout",
          "text": [
            "'¿Puedo escribir cualquier carácter en el fichero 䔀fichero.txt?'\n"
          ]
        }
      ]
    },
    {
      "cell_type": "markdown",
      "metadata": {
        "id": "1rG5GXLSPhBr"
      },
      "source": [
        "En general, a la hora de escribir programas en los que tengamos que manejar cadenas Unicode, deberíamos usar solo las cadenas Unicode de forma interna a nuestros programas, decodificando los datos de entrada y codificando la información que devolvamos. Es mejor usar solamente cadenas o bytes, pero no mezclar ambas (por ejemplo mediante el operador +).\n",
        "\n",
        "En caso de encontrarnos con necesidad de modificar un fichero del que desconocemos su codificación, si sabemos que es compatible ASCII y solo queremos cambiar la parte ASCII, podemos usar el gestor de errores `surrogateescape`, que lo que hace es decodificar los caracteres no ASCII a codepoints en el rango entre U+DC80 y U+DCFF, y luego estos code pints se devuelven a sus bytes originales cuando surrogateescape codifica los datos para devolverlos. Este es un uso de los caodepoints del rango de subrogados, diferente al utilizado en la codificación UTF-16."
      ]
    },
    {
      "cell_type": "code",
      "metadata": {
        "id": "SKS1cdJrRFD8",
        "colab": {
          "base_uri": "https://localhost:8080/",
          "height": 216
        },
        "outputId": "11b7c174-9215-4594-e681-4e9afed14138"
      },
      "source": [
        "with open(fname,'r', encoding='ascii', errors='surrogateescape') as f:\n",
        "  data=f.read()\n",
        "\n",
        "#Hacemos los cambios necesarios en los datos\n",
        "\n",
        "with open(fname + '.new', 'w', encoding='ascii', errors='surrogateescape') as f:\n",
        "  f.write(data)"
      ],
      "execution_count": null,
      "outputs": [
        {
          "output_type": "error",
          "ename": "NameError",
          "evalue": "name 'fname' is not defined",
          "traceback": [
            "\u001b[0;31m---------------------------------------------------------------------------\u001b[0m",
            "\u001b[0;31mNameError\u001b[0m                                 Traceback (most recent call last)",
            "\u001b[0;32m<ipython-input-21-69e90d4d5e9d>\u001b[0m in \u001b[0;36m<cell line: 1>\u001b[0;34m()\u001b[0m\n\u001b[0;32m----> 1\u001b[0;31m \u001b[0;32mwith\u001b[0m \u001b[0mopen\u001b[0m\u001b[0;34m(\u001b[0m\u001b[0mfname\u001b[0m\u001b[0;34m,\u001b[0m\u001b[0;34m'r'\u001b[0m\u001b[0;34m,\u001b[0m \u001b[0mencoding\u001b[0m\u001b[0;34m=\u001b[0m\u001b[0;34m'ascii'\u001b[0m\u001b[0;34m,\u001b[0m \u001b[0merrors\u001b[0m\u001b[0;34m=\u001b[0m\u001b[0;34m'surrogateescape'\u001b[0m\u001b[0;34m)\u001b[0m \u001b[0;32mas\u001b[0m \u001b[0mf\u001b[0m\u001b[0;34m:\u001b[0m\u001b[0;34m\u001b[0m\u001b[0;34m\u001b[0m\u001b[0m\n\u001b[0m\u001b[1;32m      2\u001b[0m   \u001b[0mdata\u001b[0m\u001b[0;34m=\u001b[0m\u001b[0mf\u001b[0m\u001b[0;34m.\u001b[0m\u001b[0mread\u001b[0m\u001b[0;34m(\u001b[0m\u001b[0;34m)\u001b[0m\u001b[0;34m\u001b[0m\u001b[0;34m\u001b[0m\u001b[0m\n\u001b[1;32m      3\u001b[0m \u001b[0;34m\u001b[0m\u001b[0m\n\u001b[1;32m      4\u001b[0m \u001b[0;31m#Hacemos los cambios necesarios en los datos\u001b[0m\u001b[0;34m\u001b[0m\u001b[0;34m\u001b[0m\u001b[0m\n\u001b[1;32m      5\u001b[0m \u001b[0;34m\u001b[0m\u001b[0m\n",
            "\u001b[0;31mNameError\u001b[0m: name 'fname' is not defined"
          ]
        }
      ]
    },
    {
      "cell_type": "markdown",
      "metadata": {
        "id": "2AyyvNntRlRj"
      },
      "source": [
        "**NOTA FINAL:** este cuaderno es una traducción y adaptación de (partes de) https://docs.python.org/3/howto/unicode.html donde podrás encontrar más información."
      ]
    }
  ]
}